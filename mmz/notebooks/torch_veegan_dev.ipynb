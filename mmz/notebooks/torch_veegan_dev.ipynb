{
 "cells": [
  {
   "cell_type": "code",
   "execution_count": 1,
   "metadata": {},
   "outputs": [],
   "source": [
    "import numpy as np\n",
    "import torch\n",
    "from torch import nn\n",
    "import itertools\n",
    "import attr\n",
    "from tqdm.auto import tqdm"
   ]
  },
  {
   "cell_type": "markdown",
   "metadata": {},
   "source": [
    "https://github.com/akashgit/VEEGAN/blob/master/VEEGAN_2D_RING.ipynb"
   ]
  },
  {
   "cell_type": "code",
   "execution_count": 2,
   "metadata": {},
   "outputs": [],
   "source": [
    "z_size = 2\n",
    "input_dim = 784\n",
    "n_hidden_gen = 128"
   ]
  },
  {
   "cell_type": "code",
   "execution_count": 3,
   "metadata": {},
   "outputs": [],
   "source": [
    "### From https://github.com/akashgit/VEEGAN/blob/master/VEEGAN_2D_RING.ipynb\n",
    "\n",
    "params = {\n",
    "    'batch_size': 500,\n",
    "    'latent_dim':z_size, \n",
    "    'eps_dim': 1, \n",
    "    'input_dim': input_dim, \n",
    "    'n_layer_disc': 2,\n",
    "    'n_hidden_disc': 128,\n",
    "    'n_layer_gen': 2,\n",
    "    'n_hidden_gen': n_hidden_gen,\n",
    "    'n_layer_inf': 2,\n",
    "    'n_hidden_inf': 128,\n",
    "}"
   ]
  },
  {
   "cell_type": "markdown",
   "metadata": {},
   "source": [
    "[ ] The discrim is given both the sample and the Z?\n",
    "[ ] "
   ]
  },
  {
   "cell_type": "code",
   "execution_count": 4,
   "metadata": {},
   "outputs": [],
   "source": [
    "def make_basic_dense_veegan(input_dim=input_dim, \n",
    "                            z_size=z_size, n_hidden_gen=n_hidden_gen):\n",
    "    gen_m = nn.Sequential(\n",
    "        nn.Linear(z_size, n_hidden_gen),\n",
    "        #nn.BatchNorm1d(n_hidden_gen),\n",
    "        nn.PReLU(),\n",
    "\n",
    "        nn.Linear(n_hidden_gen, n_hidden_gen),\n",
    "        #nn.BatchNorm1d(n_hidden_gen),\n",
    "        nn.PReLU(),\n",
    "\n",
    "        nn.Linear(n_hidden_gen, input_dim),\n",
    "        #nn.PReLU()\n",
    "        nn.Sigmoid()\n",
    "    )\n",
    "\n",
    "    ###\n",
    "\n",
    "    disc_m = nn.Sequential(\n",
    "        nn.Linear(z_size + input_dim, 128),\n",
    "        #nn.BatchNorm1d(128),\n",
    "        nn.PReLU(),\n",
    "\n",
    "        nn.Linear(128, 128),\n",
    "        #nn.BatchNorm1d(128),\n",
    "        nn.PReLU(),\n",
    "\n",
    "        nn.Linear(128, 1),\n",
    "\n",
    "        nn.Sigmoid()\n",
    "    )\n",
    "    ####\n",
    "    enc_m = nn.Sequential(\n",
    "        nn.Linear(input_dim, 128),\n",
    "        #nn.BatchNorm1d(128),\n",
    "        nn.PReLU(),\n",
    "        nn.Linear(128, z_size),\n",
    "        nn.PReLU()\n",
    "    )\n",
    "\n",
    "    dec_m = nn.Sequential(\n",
    "        nn.Linear(z_size, 128),\n",
    "        #nn.BatchNorm1d(128),\n",
    "        nn.PReLU(),\n",
    "        nn.Linear(128, input_dim),\n",
    "        nn.PReLU()\n",
    "    )\n",
    "    \n",
    "    return gen_m, disc_m, enc_m, dec_m"
   ]
  },
  {
   "cell_type": "markdown",
   "metadata": {},
   "source": [
    "****"
   ]
  },
  {
   "cell_type": "code",
   "execution_count": 5,
   "metadata": {},
   "outputs": [],
   "source": [
    "import torchvision"
   ]
  },
  {
   "cell_type": "code",
   "execution_count": 6,
   "metadata": {},
   "outputs": [],
   "source": [
    "mnist_dataset = torchvision.datasets.MNIST('~/torch_datasets', download=True, \n",
    "                                           transform=torchvision.transforms.ToTensor())"
   ]
  },
  {
   "cell_type": "code",
   "execution_count": 7,
   "metadata": {},
   "outputs": [
    {
     "data": {
      "text/plain": [
       "torch.Size([60000, 28, 28])"
      ]
     },
     "execution_count": 7,
     "metadata": {},
     "output_type": "execute_result"
    }
   ],
   "source": [
    "mnist_dataset.data.shape"
   ]
  },
  {
   "cell_type": "markdown",
   "metadata": {},
   "source": [
    "***"
   ]
  },
  {
   "cell_type": "code",
   "execution_count": 8,
   "metadata": {},
   "outputs": [],
   "source": [
    "from mmz.models import torch_veegan as tvg\n",
    "\n",
    "from tqdm.auto import tqdm\n",
    "import seaborn as sns\n",
    "import matplotlib"
   ]
  },
  {
   "cell_type": "code",
   "execution_count": 9,
   "metadata": {},
   "outputs": [],
   "source": [
    "mnist_dl = torch.utils.data.dataloader.DataLoader(mnist_dataset, batch_size=params['batch_size'])"
   ]
  },
  {
   "cell_type": "code",
   "execution_count": 10,
   "metadata": {},
   "outputs": [],
   "source": [
    "gen_m, disc_m, enc_m, dec_m = make_basic_dense_veegan()\n",
    "\n",
    "lr = 0.0001\n",
    "optim_omega = torch.optim.RMSprop(disc_m.parameters(), lr)\n",
    "optim_theta = torch.optim.RMSprop(enc_m.parameters(), lr)\n",
    "optim_gamma = torch.optim.RMSprop(gen_m.parameters(), lr)"
   ]
  },
  {
   "cell_type": "code",
   "execution_count": 11,
   "metadata": {},
   "outputs": [],
   "source": [
    "trainer = tvg.VEEGAN_Trainer(gen_m, disc_m, enc_m, mnist_dl,\n",
    "                             z_size=2, z_var=1., input_reshape=(-1, input_dim),\n",
    "                             disc_optim=optim_omega,\n",
    "                             gen_optim=optim_gamma,\n",
    "                             enc_optim=optim_theta)"
   ]
  },
  {
   "cell_type": "code",
   "execution_count": null,
   "metadata": {},
   "outputs": [
    {
     "data": {
      "application/vnd.jupyter.widget-view+json": {
       "model_id": "f2b2f5cc91e64109b8bb5854e1b6d2c9",
       "version_major": 2,
       "version_minor": 0
      },
      "text/plain": [
       "HBox(children=(FloatProgress(value=0.0, max=15.0), HTML(value='')))"
      ]
     },
     "metadata": {},
     "output_type": "display_data"
    },
    {
     "data": {
      "application/vnd.jupyter.widget-view+json": {
       "model_id": "154a5b85f16b4f50890373ae685e5452",
       "version_major": 2,
       "version_minor": 0
      },
      "text/plain": [
       "HBox(children=(FloatProgress(value=0.0, description='epoch 0', max=120.0, style=ProgressStyle(description_widt…"
      ]
     },
     "metadata": {},
     "output_type": "display_data"
    },
    {
     "name": "stdout",
     "output_type": "stream",
     "text": [
      "\n"
     ]
    },
    {
     "data": {
      "application/vnd.jupyter.widget-view+json": {
       "model_id": "05eb1949ad6d457daaedcc04a9276415",
       "version_major": 2,
       "version_minor": 0
      },
      "text/plain": [
       "HBox(children=(FloatProgress(value=0.0, description='epoch 1', max=120.0, style=ProgressStyle(description_widt…"
      ]
     },
     "metadata": {},
     "output_type": "display_data"
    },
    {
     "name": "stdout",
     "output_type": "stream",
     "text": [
      "\n"
     ]
    },
    {
     "data": {
      "application/vnd.jupyter.widget-view+json": {
       "model_id": "a392fa69506044e0a9d92d15b6dfd942",
       "version_major": 2,
       "version_minor": 0
      },
      "text/plain": [
       "HBox(children=(FloatProgress(value=0.0, description='epoch 2', max=120.0, style=ProgressStyle(description_widt…"
      ]
     },
     "metadata": {},
     "output_type": "display_data"
    },
    {
     "name": "stdout",
     "output_type": "stream",
     "text": [
      "\n"
     ]
    },
    {
     "data": {
      "application/vnd.jupyter.widget-view+json": {
       "model_id": "547728b88a0e456aa88cd4f2394b1f2e",
       "version_major": 2,
       "version_minor": 0
      },
      "text/plain": [
       "HBox(children=(FloatProgress(value=0.0, description='epoch 3', max=120.0, style=ProgressStyle(description_widt…"
      ]
     },
     "metadata": {},
     "output_type": "display_data"
    },
    {
     "name": "stdout",
     "output_type": "stream",
     "text": [
      "\n"
     ]
    },
    {
     "data": {
      "application/vnd.jupyter.widget-view+json": {
       "model_id": "251edb6e6ed94fcbbd5a9bd4319dd955",
       "version_major": 2,
       "version_minor": 0
      },
      "text/plain": [
       "HBox(children=(FloatProgress(value=0.0, description='epoch 4', max=120.0, style=ProgressStyle(description_widt…"
      ]
     },
     "metadata": {},
     "output_type": "display_data"
    },
    {
     "name": "stdout",
     "output_type": "stream",
     "text": [
      "\n"
     ]
    },
    {
     "data": {
      "application/vnd.jupyter.widget-view+json": {
       "model_id": "dd28c79f24714f63b5fca24d8d2226a4",
       "version_major": 2,
       "version_minor": 0
      },
      "text/plain": [
       "HBox(children=(FloatProgress(value=0.0, description='epoch 5', max=120.0, style=ProgressStyle(description_widt…"
      ]
     },
     "metadata": {},
     "output_type": "display_data"
    },
    {
     "name": "stdout",
     "output_type": "stream",
     "text": [
      "\n"
     ]
    },
    {
     "data": {
      "application/vnd.jupyter.widget-view+json": {
       "model_id": "35b450cbd1f64310af35d78ec87fd0b0",
       "version_major": 2,
       "version_minor": 0
      },
      "text/plain": [
       "HBox(children=(FloatProgress(value=0.0, description='epoch 6', max=120.0, style=ProgressStyle(description_widt…"
      ]
     },
     "metadata": {},
     "output_type": "display_data"
    },
    {
     "name": "stdout",
     "output_type": "stream",
     "text": [
      "\n"
     ]
    },
    {
     "data": {
      "application/vnd.jupyter.widget-view+json": {
       "model_id": "c09e95b2acb64cf5aa7993be5efbf297",
       "version_major": 2,
       "version_minor": 0
      },
      "text/plain": [
       "HBox(children=(FloatProgress(value=0.0, description='epoch 7', max=120.0, style=ProgressStyle(description_widt…"
      ]
     },
     "metadata": {},
     "output_type": "display_data"
    },
    {
     "name": "stdout",
     "output_type": "stream",
     "text": [
      "\n"
     ]
    },
    {
     "data": {
      "application/vnd.jupyter.widget-view+json": {
       "model_id": "aa7bbe69efe94bdc9a5d236c47fa5d55",
       "version_major": 2,
       "version_minor": 0
      },
      "text/plain": [
       "HBox(children=(FloatProgress(value=0.0, description='epoch 8', max=120.0, style=ProgressStyle(description_widt…"
      ]
     },
     "metadata": {},
     "output_type": "display_data"
    },
    {
     "name": "stdout",
     "output_type": "stream",
     "text": [
      "\n"
     ]
    },
    {
     "data": {
      "application/vnd.jupyter.widget-view+json": {
       "model_id": "7b70fba525d04b3ebdef528e8aaa61b8",
       "version_major": 2,
       "version_minor": 0
      },
      "text/plain": [
       "HBox(children=(FloatProgress(value=0.0, description='epoch 9', max=120.0, style=ProgressStyle(description_widt…"
      ]
     },
     "metadata": {},
     "output_type": "display_data"
    },
    {
     "name": "stdout",
     "output_type": "stream",
     "text": [
      "\n"
     ]
    },
    {
     "data": {
      "application/vnd.jupyter.widget-view+json": {
       "model_id": "bf47bebba3e942c29f880ac1544e3574",
       "version_major": 2,
       "version_minor": 0
      },
      "text/plain": [
       "HBox(children=(FloatProgress(value=0.0, description='epoch 10', max=120.0, style=ProgressStyle(description_wid…"
      ]
     },
     "metadata": {},
     "output_type": "display_data"
    },
    {
     "name": "stdout",
     "output_type": "stream",
     "text": [
      "\n"
     ]
    },
    {
     "data": {
      "application/vnd.jupyter.widget-view+json": {
       "model_id": "00857338540048c5a5b19ae589449cf1",
       "version_major": 2,
       "version_minor": 0
      },
      "text/plain": [
       "HBox(children=(FloatProgress(value=0.0, description='epoch 11', max=120.0, style=ProgressStyle(description_wid…"
      ]
     },
     "metadata": {},
     "output_type": "display_data"
    }
   ],
   "source": [
    "trainer.train(15)"
   ]
  },
  {
   "cell_type": "code",
   "execution_count": 14,
   "metadata": {
    "collapsed": true,
    "jupyter": {
     "outputs_hidden": true
    }
   },
   "outputs": [
    {
     "ename": "ValueError",
     "evalue": "Expected more than 1 value per channel when training, got input size torch.Size([1, 128])",
     "output_type": "error",
     "traceback": [
      "\u001b[0;31m---------------------------------------------------------------------------\u001b[0m",
      "\u001b[0;31mValueError\u001b[0m                                Traceback (most recent call last)",
      "\u001b[0;32m<ipython-input-14-e422dea8e152>\u001b[0m in \u001b[0;36m<module>\u001b[0;34m\u001b[0m\n\u001b[0;32m----> 1\u001b[0;31m \u001b[0menc_m\u001b[0m\u001b[0;34m(\u001b[0m\u001b[0mmnist_dataset\u001b[0m\u001b[0;34m[\u001b[0m\u001b[0;36m0\u001b[0m\u001b[0;34m]\u001b[0m\u001b[0;34m[\u001b[0m\u001b[0;36m0\u001b[0m\u001b[0;34m]\u001b[0m\u001b[0;34m.\u001b[0m\u001b[0mreshape\u001b[0m\u001b[0;34m(\u001b[0m\u001b[0;34m-\u001b[0m\u001b[0;36m1\u001b[0m\u001b[0;34m,\u001b[0m \u001b[0;36m784\u001b[0m\u001b[0;34m)\u001b[0m\u001b[0;34m)\u001b[0m\u001b[0;34m\u001b[0m\u001b[0;34m\u001b[0m\u001b[0m\n\u001b[0m",
      "\u001b[0;32m~/venv/lib/python3.8/site-packages/torch/nn/modules/module.py\u001b[0m in \u001b[0;36m_call_impl\u001b[0;34m(self, *input, **kwargs)\u001b[0m\n\u001b[1;32m    720\u001b[0m             \u001b[0mresult\u001b[0m \u001b[0;34m=\u001b[0m \u001b[0mself\u001b[0m\u001b[0;34m.\u001b[0m\u001b[0m_slow_forward\u001b[0m\u001b[0;34m(\u001b[0m\u001b[0;34m*\u001b[0m\u001b[0minput\u001b[0m\u001b[0;34m,\u001b[0m \u001b[0;34m**\u001b[0m\u001b[0mkwargs\u001b[0m\u001b[0;34m)\u001b[0m\u001b[0;34m\u001b[0m\u001b[0;34m\u001b[0m\u001b[0m\n\u001b[1;32m    721\u001b[0m         \u001b[0;32melse\u001b[0m\u001b[0;34m:\u001b[0m\u001b[0;34m\u001b[0m\u001b[0;34m\u001b[0m\u001b[0m\n\u001b[0;32m--> 722\u001b[0;31m             \u001b[0mresult\u001b[0m \u001b[0;34m=\u001b[0m \u001b[0mself\u001b[0m\u001b[0;34m.\u001b[0m\u001b[0mforward\u001b[0m\u001b[0;34m(\u001b[0m\u001b[0;34m*\u001b[0m\u001b[0minput\u001b[0m\u001b[0;34m,\u001b[0m \u001b[0;34m**\u001b[0m\u001b[0mkwargs\u001b[0m\u001b[0;34m)\u001b[0m\u001b[0;34m\u001b[0m\u001b[0;34m\u001b[0m\u001b[0m\n\u001b[0m\u001b[1;32m    723\u001b[0m         for hook in itertools.chain(\n\u001b[1;32m    724\u001b[0m                 \u001b[0m_global_forward_hooks\u001b[0m\u001b[0;34m.\u001b[0m\u001b[0mvalues\u001b[0m\u001b[0;34m(\u001b[0m\u001b[0;34m)\u001b[0m\u001b[0;34m,\u001b[0m\u001b[0;34m\u001b[0m\u001b[0;34m\u001b[0m\u001b[0m\n",
      "\u001b[0;32m~/venv/lib/python3.8/site-packages/torch/nn/modules/container.py\u001b[0m in \u001b[0;36mforward\u001b[0;34m(self, input)\u001b[0m\n\u001b[1;32m    115\u001b[0m     \u001b[0;32mdef\u001b[0m \u001b[0mforward\u001b[0m\u001b[0;34m(\u001b[0m\u001b[0mself\u001b[0m\u001b[0;34m,\u001b[0m \u001b[0minput\u001b[0m\u001b[0;34m)\u001b[0m\u001b[0;34m:\u001b[0m\u001b[0;34m\u001b[0m\u001b[0;34m\u001b[0m\u001b[0m\n\u001b[1;32m    116\u001b[0m         \u001b[0;32mfor\u001b[0m \u001b[0mmodule\u001b[0m \u001b[0;32min\u001b[0m \u001b[0mself\u001b[0m\u001b[0;34m:\u001b[0m\u001b[0;34m\u001b[0m\u001b[0;34m\u001b[0m\u001b[0m\n\u001b[0;32m--> 117\u001b[0;31m             \u001b[0minput\u001b[0m \u001b[0;34m=\u001b[0m \u001b[0mmodule\u001b[0m\u001b[0;34m(\u001b[0m\u001b[0minput\u001b[0m\u001b[0;34m)\u001b[0m\u001b[0;34m\u001b[0m\u001b[0;34m\u001b[0m\u001b[0m\n\u001b[0m\u001b[1;32m    118\u001b[0m         \u001b[0;32mreturn\u001b[0m \u001b[0minput\u001b[0m\u001b[0;34m\u001b[0m\u001b[0;34m\u001b[0m\u001b[0m\n\u001b[1;32m    119\u001b[0m \u001b[0;34m\u001b[0m\u001b[0m\n",
      "\u001b[0;32m~/venv/lib/python3.8/site-packages/torch/nn/modules/module.py\u001b[0m in \u001b[0;36m_call_impl\u001b[0;34m(self, *input, **kwargs)\u001b[0m\n\u001b[1;32m    720\u001b[0m             \u001b[0mresult\u001b[0m \u001b[0;34m=\u001b[0m \u001b[0mself\u001b[0m\u001b[0;34m.\u001b[0m\u001b[0m_slow_forward\u001b[0m\u001b[0;34m(\u001b[0m\u001b[0;34m*\u001b[0m\u001b[0minput\u001b[0m\u001b[0;34m,\u001b[0m \u001b[0;34m**\u001b[0m\u001b[0mkwargs\u001b[0m\u001b[0;34m)\u001b[0m\u001b[0;34m\u001b[0m\u001b[0;34m\u001b[0m\u001b[0m\n\u001b[1;32m    721\u001b[0m         \u001b[0;32melse\u001b[0m\u001b[0;34m:\u001b[0m\u001b[0;34m\u001b[0m\u001b[0;34m\u001b[0m\u001b[0m\n\u001b[0;32m--> 722\u001b[0;31m             \u001b[0mresult\u001b[0m \u001b[0;34m=\u001b[0m \u001b[0mself\u001b[0m\u001b[0;34m.\u001b[0m\u001b[0mforward\u001b[0m\u001b[0;34m(\u001b[0m\u001b[0;34m*\u001b[0m\u001b[0minput\u001b[0m\u001b[0;34m,\u001b[0m \u001b[0;34m**\u001b[0m\u001b[0mkwargs\u001b[0m\u001b[0;34m)\u001b[0m\u001b[0;34m\u001b[0m\u001b[0;34m\u001b[0m\u001b[0m\n\u001b[0m\u001b[1;32m    723\u001b[0m         for hook in itertools.chain(\n\u001b[1;32m    724\u001b[0m                 \u001b[0m_global_forward_hooks\u001b[0m\u001b[0;34m.\u001b[0m\u001b[0mvalues\u001b[0m\u001b[0;34m(\u001b[0m\u001b[0;34m)\u001b[0m\u001b[0;34m,\u001b[0m\u001b[0;34m\u001b[0m\u001b[0;34m\u001b[0m\u001b[0m\n",
      "\u001b[0;32m~/venv/lib/python3.8/site-packages/torch/nn/modules/batchnorm.py\u001b[0m in \u001b[0;36mforward\u001b[0;34m(self, input)\u001b[0m\n\u001b[1;32m    129\u001b[0m         \u001b[0mused\u001b[0m \u001b[0;32mfor\u001b[0m \u001b[0mnormalization\u001b[0m \u001b[0;34m(\u001b[0m\u001b[0mi\u001b[0m\u001b[0;34m.\u001b[0m\u001b[0me\u001b[0m\u001b[0;34m.\u001b[0m \u001b[0;32min\u001b[0m \u001b[0meval\u001b[0m \u001b[0mmode\u001b[0m \u001b[0mwhen\u001b[0m \u001b[0mbuffers\u001b[0m \u001b[0mare\u001b[0m \u001b[0;32mnot\u001b[0m \u001b[0;32mNone\u001b[0m\u001b[0;34m)\u001b[0m\u001b[0;34m.\u001b[0m\u001b[0;34m\u001b[0m\u001b[0;34m\u001b[0m\u001b[0m\n\u001b[1;32m    130\u001b[0m         \"\"\"\n\u001b[0;32m--> 131\u001b[0;31m         return F.batch_norm(\n\u001b[0m\u001b[1;32m    132\u001b[0m             \u001b[0minput\u001b[0m\u001b[0;34m,\u001b[0m\u001b[0;34m\u001b[0m\u001b[0;34m\u001b[0m\u001b[0m\n\u001b[1;32m    133\u001b[0m             \u001b[0;31m# If buffers are not to be tracked, ensure that they won't be updated\u001b[0m\u001b[0;34m\u001b[0m\u001b[0;34m\u001b[0m\u001b[0;34m\u001b[0m\u001b[0m\n",
      "\u001b[0;32m~/venv/lib/python3.8/site-packages/torch/nn/functional.py\u001b[0m in \u001b[0;36mbatch_norm\u001b[0;34m(input, running_mean, running_var, weight, bias, training, momentum, eps)\u001b[0m\n\u001b[1;32m   2010\u001b[0m                 bias=bias, training=training, momentum=momentum, eps=eps)\n\u001b[1;32m   2011\u001b[0m     \u001b[0;32mif\u001b[0m \u001b[0mtraining\u001b[0m\u001b[0;34m:\u001b[0m\u001b[0;34m\u001b[0m\u001b[0;34m\u001b[0m\u001b[0m\n\u001b[0;32m-> 2012\u001b[0;31m         \u001b[0m_verify_batch_size\u001b[0m\u001b[0;34m(\u001b[0m\u001b[0minput\u001b[0m\u001b[0;34m.\u001b[0m\u001b[0msize\u001b[0m\u001b[0;34m(\u001b[0m\u001b[0;34m)\u001b[0m\u001b[0;34m)\u001b[0m\u001b[0;34m\u001b[0m\u001b[0;34m\u001b[0m\u001b[0m\n\u001b[0m\u001b[1;32m   2013\u001b[0m \u001b[0;34m\u001b[0m\u001b[0m\n\u001b[1;32m   2014\u001b[0m     return torch.batch_norm(\n",
      "\u001b[0;32m~/venv/lib/python3.8/site-packages/torch/nn/functional.py\u001b[0m in \u001b[0;36m_verify_batch_size\u001b[0;34m(size)\u001b[0m\n\u001b[1;32m   1993\u001b[0m         \u001b[0msize_prods\u001b[0m \u001b[0;34m*=\u001b[0m \u001b[0msize\u001b[0m\u001b[0;34m[\u001b[0m\u001b[0mi\u001b[0m \u001b[0;34m+\u001b[0m \u001b[0;36m2\u001b[0m\u001b[0;34m]\u001b[0m\u001b[0;34m\u001b[0m\u001b[0;34m\u001b[0m\u001b[0m\n\u001b[1;32m   1994\u001b[0m     \u001b[0;32mif\u001b[0m \u001b[0msize_prods\u001b[0m \u001b[0;34m==\u001b[0m \u001b[0;36m1\u001b[0m\u001b[0;34m:\u001b[0m\u001b[0;34m\u001b[0m\u001b[0;34m\u001b[0m\u001b[0m\n\u001b[0;32m-> 1995\u001b[0;31m         \u001b[0;32mraise\u001b[0m \u001b[0mValueError\u001b[0m\u001b[0;34m(\u001b[0m\u001b[0;34m'Expected more than 1 value per channel when training, got input size {}'\u001b[0m\u001b[0;34m.\u001b[0m\u001b[0mformat\u001b[0m\u001b[0;34m(\u001b[0m\u001b[0msize\u001b[0m\u001b[0;34m)\u001b[0m\u001b[0;34m)\u001b[0m\u001b[0;34m\u001b[0m\u001b[0;34m\u001b[0m\u001b[0m\n\u001b[0m\u001b[1;32m   1996\u001b[0m \u001b[0;34m\u001b[0m\u001b[0m\n\u001b[1;32m   1997\u001b[0m \u001b[0;34m\u001b[0m\u001b[0m\n",
      "\u001b[0;31mValueError\u001b[0m: Expected more than 1 value per channel when training, got input size torch.Size([1, 128])"
     ]
    }
   ],
   "source": [
    "enc_m(mnist_dataset[0][0].reshape(-1, 784))"
   ]
  },
  {
   "cell_type": "code",
   "execution_count": 18,
   "metadata": {},
   "outputs": [
    {
     "data": {
      "application/vnd.jupyter.widget-view+json": {
       "model_id": "bfdfeac7cd384d0292c21a947e49babf",
       "version_major": 2,
       "version_minor": 0
      },
      "text/plain": [
       "HBox(children=(FloatProgress(value=0.0, max=5.0), HTML(value='')))"
      ]
     },
     "metadata": {},
     "output_type": "display_data"
    },
    {
     "data": {
      "application/vnd.jupyter.widget-view+json": {
       "model_id": "954cf511617a453da7926c6fa427a215",
       "version_major": 2,
       "version_minor": 0
      },
      "text/plain": [
       "HBox(children=(FloatProgress(value=0.0, description='epoch 0', max=120.0, style=ProgressStyle(description_widt…"
      ]
     },
     "metadata": {},
     "output_type": "display_data"
    },
    {
     "name": "stdout",
     "output_type": "stream",
     "text": [
      "\n"
     ]
    },
    {
     "data": {
      "application/vnd.jupyter.widget-view+json": {
       "model_id": "b30c387911a54503ac0f293ba3c82f10",
       "version_major": 2,
       "version_minor": 0
      },
      "text/plain": [
       "HBox(children=(FloatProgress(value=0.0, description='epoch 1', max=120.0, style=ProgressStyle(description_widt…"
      ]
     },
     "metadata": {},
     "output_type": "display_data"
    },
    {
     "name": "stdout",
     "output_type": "stream",
     "text": [
      "\n"
     ]
    },
    {
     "data": {
      "application/vnd.jupyter.widget-view+json": {
       "model_id": "a9fddbe0592845d8b56e283b199db2fa",
       "version_major": 2,
       "version_minor": 0
      },
      "text/plain": [
       "HBox(children=(FloatProgress(value=0.0, description='epoch 2', max=120.0, style=ProgressStyle(description_widt…"
      ]
     },
     "metadata": {},
     "output_type": "display_data"
    },
    {
     "name": "stdout",
     "output_type": "stream",
     "text": [
      "\n"
     ]
    },
    {
     "data": {
      "application/vnd.jupyter.widget-view+json": {
       "model_id": "7b4b7881b4c1431999e04dcd01bd665d",
       "version_major": 2,
       "version_minor": 0
      },
      "text/plain": [
       "HBox(children=(FloatProgress(value=0.0, description='epoch 3', max=120.0, style=ProgressStyle(description_widt…"
      ]
     },
     "metadata": {},
     "output_type": "display_data"
    },
    {
     "name": "stdout",
     "output_type": "stream",
     "text": [
      "\n"
     ]
    },
    {
     "data": {
      "application/vnd.jupyter.widget-view+json": {
       "model_id": "5e16ca73930d43c0aa067c6f7afc3c83",
       "version_major": 2,
       "version_minor": 0
      },
      "text/plain": [
       "HBox(children=(FloatProgress(value=0.0, description='epoch 4', max=120.0, style=ProgressStyle(description_widt…"
      ]
     },
     "metadata": {},
     "output_type": "display_data"
    },
    {
     "name": "stdout",
     "output_type": "stream",
     "text": [
      "\n",
      "\n"
     ]
    },
    {
     "data": {
      "image/png": "[encoded data removed]",
      "text/plain": [
       "<Figure size 432x288 with 2 Axes>"
      ]
     },
     "metadata": {
      "needs_background": "light"
     },
     "output_type": "display_data"
    },
    {
     "data": {
      "image/png": "[encoded data removed]",
      "text/plain": [
       "<Figure size 432x288 with 2 Axes>"
      ]
     },
     "metadata": {
      "needs_background": "light"
     },
     "output_type": "display_data"
    },
    {
     "data": {
      "image/png": "[encoded data removed]",
      "text/plain": [
       "<Figure size 432x288 with 2 Axes>"
      ]
     },
     "metadata": {
      "needs_background": "light"
     },
     "output_type": "display_data"
    },
    {
     "data": {
      "image/png": "[encoded data removed]",
      "text/plain": [
       "<Figure size 432x288 with 2 Axes>"
      ]
     },
     "metadata": {
      "needs_background": "light"
     },
     "output_type": "display_data"
    },
    {
     "data": {
      "image/png": "[encoded data removed]",
      "text/plain": [
       "<Figure size 432x288 with 2 Axes>"
      ]
     },
     "metadata": {
      "needs_background": "light"
     },
     "output_type": "display_data"
    }
   ],
   "source": [
    "d_z_weight = 1.\n",
    "disc_g_weight = 1.\n",
    "\n",
    "n_epochs = 5\n",
    "for n in tqdm(range(n_epochs)):\n",
    "    with tqdm(total=len(mnist_dl), desc='epoch ' + str(n)) as batch_bar:\n",
    "        for batch_i, (real_x, real_y) in enumerate(mnist_dl):\n",
    "            optim_omega.zero_grad()\n",
    "            optim_theta.zero_grad()\n",
    "            optim_gamma.zero_grad()\n",
    "            \n",
    "            ## Real Sample\n",
    "            fl_real_x = real_x.reshape(-1, input_dim)\n",
    "            ## Gaussian Z\n",
    "            z_i = torch.empty(fl_real_x.shape[0], z_size).normal_(mean=0, std=0.2)\n",
    "            \n",
    "            ## G Sample from Gaussian Z\n",
    "            g_from_z = gen_m(z_i)\n",
    "            ## Enc Z from G Sample\n",
    "            z_i_g = enc_m(g_from_z)\n",
    "            \n",
    "            ###\n",
    "            ## formula 7\n",
    "            #disc_g_out = disc_m(torch.cat([z_i, g_from_z], dim=1))\n",
    "            disc_g_out = -torch.log(torch.sigmoid(disc_m(torch.cat([z_i, g_from_z], dim=1))))\n",
    "            d_z = torch.sqrt((z_i - z_i_g)**2).mean()\n",
    "                        \n",
    "            o_hat = (disc_g_weight*disc_g_out.mean() + d_z_weight*d_z)\n",
    "            o_hat.backward()\n",
    "            optim_theta.step()\n",
    "            optim_gamma.step()\n",
    "            ###########\n",
    "            ## Enc of real\n",
    "            ## Real Sample\n",
    "            fl_real_x = real_x.reshape(-1, input_dim)\n",
    "            ## Gaussian Z\n",
    "            z_i = torch.empty(fl_real_x.shape[0], z_size).normal_(mean=0, std=0.2)\n",
    "            \n",
    "            ## G Sample from Gaussian Z\n",
    "            g_from_z = gen_m(z_i)\n",
    "            \n",
    "            ## Enc Z from G Sample\n",
    "            z_i_g = enc_m(g_from_z)\n",
    "            \n",
    "            disc_fake_out = torch.sigmoid(disc_m(torch.cat([z_i, g_from_z], dim=1)))\n",
    "            ## \n",
    "            disc_real_out = torch.sigmoid(disc_m(torch.cat([z_i_g, fl_real_x], dim=1)))\n",
    "            \n",
    "            ## Formula 8\n",
    "            #o_lr = -(torch.log(disc_fake_out) + torch.log(1. - disc_real_out)).mean()\n",
    "            o_lr = -(torch.log(disc_real_out) + torch.log(1. - disc_fake_out)).mean()\n",
    "            \n",
    "            o_lr.backward(retain_graph=False)\n",
    "            \n",
    "            optim_omega.step()\n",
    "            \n",
    "            #desc = \"%.3f %.3f %.3f\" % (g_w, g_theta, g_gamma)\n",
    "            desc = \"%.3f %.3f %.3f\" % (o_hat, o_lr, d_z)\n",
    "            batch_bar.set_description(desc)\n",
    "            batch_bar.update(1)\n",
    "\n",
    "        fig, ax = matplotlib.pyplot.subplots()\n",
    "        sns.heatmap((g_from_z[3].reshape(28, 28)).float().detach().numpy(), ax=ax)"
   ]
  },
  {
   "cell_type": "code",
   "execution_count": 17,
   "metadata": {},
   "outputs": [
    {
     "ename": "NameError",
     "evalue": "name 'real_x' is not defined",
     "output_type": "error",
     "traceback": [
      "\u001b[0;31m---------------------------------------------------------------------------\u001b[0m",
      "\u001b[0;31mNameError\u001b[0m                                 Traceback (most recent call last)",
      "\u001b[0;32m<ipython-input-17-29912ea49ded>\u001b[0m in \u001b[0;36m<module>\u001b[0;34m\u001b[0m\n\u001b[0;32m----> 1\u001b[0;31m \u001b[0mreal_x\u001b[0m\u001b[0;34m.\u001b[0m\u001b[0mshape\u001b[0m\u001b[0;34m\u001b[0m\u001b[0;34m\u001b[0m\u001b[0m\n\u001b[0m",
      "\u001b[0;31mNameError\u001b[0m: name 'real_x' is not defined"
     ]
    }
   ],
   "source": [
    "real_x.shape"
   ]
  },
  {
   "cell_type": "code",
   "execution_count": 147,
   "metadata": {},
   "outputs": [
    {
     "data": {
      "text/plain": [
       "torch.Size([32, 784])"
      ]
     },
     "execution_count": 147,
     "metadata": {},
     "output_type": "execute_result"
    }
   ],
   "source": [
    "fl_real_x.shape"
   ]
  },
  {
   "cell_type": "code",
   "execution_count": 41,
   "metadata": {},
   "outputs": [],
   "source": [
    "g_from_real_z = gen_m(real_encs)"
   ]
  },
  {
   "cell_type": "code",
   "execution_count": 42,
   "metadata": {},
   "outputs": [
    {
     "data": {
      "image/png": "[encoded data removed]",
      "text/plain": [
       "<Figure size 936x432 with 10 Axes>"
      ]
     },
     "metadata": {
      "needs_background": "light"
     },
     "output_type": "display_data"
    }
   ],
   "source": [
    "base_plt_i = 5\n",
    "n_to_plt = 5\n",
    "fig, axs = matplotlib.pyplot.subplots(figsize=(13, 6), nrows=2, ncols=n_to_plt)\n",
    "for i in range(n_to_plt):\n",
    "    _i = base_plt_i + i\n",
    "    sns.heatmap((fl_real_x[_i].reshape(28, 28)).float().detach().numpy(), \n",
    "                ax=axs[0][i], cbar=False)\n",
    "    \n",
    "    sns.heatmap((g_from_real_z[_i].reshape(28, 28)).float().detach().numpy(), \n",
    "                ax=axs[1][i], cbar=False)\n",
    "fig.tight_layout()"
   ]
  },
  {
   "cell_type": "code",
   "execution_count": 38,
   "metadata": {},
   "outputs": [],
   "source": [
    "real_encs = enc_m(fl_real_x)"
   ]
  },
  {
   "cell_type": "code",
   "execution_count": 39,
   "metadata": {},
   "outputs": [
    {
     "data": {
      "text/plain": [
       "tensor([[0.0007, 0.0004, 0.0004,  ..., 0.0009, 0.0004, 0.0004],\n",
       "        [0.0006, 0.0003, 0.0003,  ..., 0.0007, 0.0003, 0.0003],\n",
       "        [0.0007, 0.0004, 0.0004,  ..., 0.0009, 0.0004, 0.0004],\n",
       "        ...,\n",
       "        [0.0007, 0.0004, 0.0004,  ..., 0.0009, 0.0004, 0.0004],\n",
       "        [0.0006, 0.0003, 0.0003,  ..., 0.0007, 0.0003, 0.0003],\n",
       "        [0.0006, 0.0004, 0.0004,  ..., 0.0008, 0.0004, 0.0003]],\n",
       "       grad_fn=<SigmoidBackward>)"
      ]
     },
     "execution_count": 39,
     "metadata": {},
     "output_type": "execute_result"
    }
   ],
   "source": [
    "gen_m(real_encs)"
   ]
  },
  {
   "cell_type": "code",
   "execution_count": 109,
   "metadata": {},
   "outputs": [
    {
     "data": {
      "text/plain": [
       "torch.Size([32, 2])"
      ]
     },
     "execution_count": 109,
     "metadata": {},
     "output_type": "execute_result"
    }
   ],
   "source": [
    "z_i.shape"
   ]
  },
  {
   "cell_type": "code",
   "execution_count": 125,
   "metadata": {},
   "outputs": [],
   "source": [
    "ux_t = torch.tensor([[1, 2], [1, 2]]).reshape(-1, 2).float()"
   ]
  },
  {
   "cell_type": "code",
   "execution_count": 126,
   "metadata": {},
   "outputs": [
    {
     "data": {
      "text/plain": [
       "torch.Size([2, 2])"
      ]
     },
     "execution_count": 126,
     "metadata": {},
     "output_type": "execute_result"
    }
   ],
   "source": [
    "ux_t.shape"
   ]
  },
  {
   "cell_type": "code",
   "execution_count": 127,
   "metadata": {},
   "outputs": [
    {
     "data": {
      "text/plain": [
       "tensor([[0., 0., 0.,  ..., 0., 0., 0.],\n",
       "        [0., 0., 0.,  ..., 0., 0., 0.]], grad_fn=<SigmoidBackward>)"
      ]
     },
     "execution_count": 127,
     "metadata": {},
     "output_type": "execute_result"
    }
   ],
   "source": [
    "gen_m.eval()(ux_t)"
   ]
  },
  {
   "cell_type": "code",
   "execution_count": 34,
   "metadata": {},
   "outputs": [
    {
     "data": {
      "text/plain": [
       "tensor([[0.6634],\n",
       "        [0.6625],\n",
       "        [0.6628],\n",
       "        [0.6618],\n",
       "        [0.6640],\n",
       "        [0.6634],\n",
       "        [0.6627],\n",
       "        [0.6623],\n",
       "        [0.6635],\n",
       "        [0.6624]], grad_fn=<SliceBackward>)"
      ]
     },
     "execution_count": 34,
     "metadata": {},
     "output_type": "execute_result"
    }
   ],
   "source": [
    "disc_fake_out[:10]"
   ]
  },
  {
   "cell_type": "code",
   "execution_count": 35,
   "metadata": {},
   "outputs": [
    {
     "data": {
      "text/plain": [
       "tensor([[0.7303],\n",
       "        [0.7290],\n",
       "        [0.7294],\n",
       "        [0.7191],\n",
       "        [0.7300],\n",
       "        [0.7307],\n",
       "        [0.7296],\n",
       "        [0.7276],\n",
       "        [0.7269],\n",
       "        [0.7274]], grad_fn=<SliceBackward>)"
      ]
     },
     "execution_count": 35,
     "metadata": {},
     "output_type": "execute_result"
    }
   ],
   "source": [
    "disc_real_out[:10]"
   ]
  },
  {
   "cell_type": "code",
   "execution_count": 48,
   "metadata": {},
   "outputs": [
    {
     "data": {
      "text/plain": [
       "<AxesSubplot:>"
      ]
     },
     "execution_count": 48,
     "metadata": {},
     "output_type": "execute_result"
    },
    {
     "data": {
      "image/png": "[encoded data removed]",
      "text/plain": [
       "<Figure size 432x288 with 2 Axes>"
      ]
     },
     "metadata": {
      "needs_background": "light"
     },
     "output_type": "display_data"
    }
   ],
   "source": [
    "import seaborn as sns\n",
    "import matplotlib\n",
    "fig, ax = matplotlib.pyplot.subplots()\n",
    "sns.heatmap((g_from_z[18].reshape(28, 28)).float().detach().numpy(), ax=ax)"
   ]
  },
  {
   "cell_type": "code",
   "execution_count": 14,
   "metadata": {},
   "outputs": [
    {
     "data": {
      "text/plain": [
       "<AxesSubplot:>"
      ]
     },
     "execution_count": 14,
     "metadata": {},
     "output_type": "execute_result"
    },
    {
     "data": {
      "image/png": "[encoded data removed]",
      "text/plain": [
       "<Figure size 432x288 with 2 Axes>"
      ]
     },
     "metadata": {
      "needs_background": "light"
     },
     "output_type": "display_data"
    }
   ],
   "source": [
    "import seaborn as sns\n",
    "import matplotlib\n",
    "fig, ax = matplotlib.pyplot.subplots()\n",
    "sns.heatmap((fl_real_x[0].reshape(28, 28)).float().detach().numpy(), ax=ax)"
   ]
  },
  {
   "cell_type": "code",
   "execution_count": 26,
   "metadata": {
    "collapsed": true,
    "jupyter": {
     "outputs_hidden": true
    }
   },
   "outputs": [
    {
     "data": {
      "text/plain": [
       "tensor([ 1.7498e-01, -4.0477e-02, -3.4126e-03, -6.0335e-02,  6.5560e-03,\n",
       "        -5.7468e-03, -6.4365e-03, -2.7556e-03, -1.4443e-02,  1.0651e-02,\n",
       "         6.5259e-02,  2.0816e-02,  8.3408e-03,  3.7708e-02,  4.1290e-02,\n",
       "         1.8012e-03,  2.0961e-04,  1.2260e-02,  8.8800e-03, -3.0472e-03,\n",
       "        -4.6377e-03,  8.4433e-04,  1.1244e-02, -8.8682e-03,  7.1244e-02,\n",
       "         1.1075e-02,  1.5433e-03, -1.6232e-02,  7.7651e-03,  4.2078e-03,\n",
       "        -1.3265e-02, -1.9103e-03, -9.2519e-03,  1.9697e-01, -3.9036e-03,\n",
       "        -5.3030e-03,  3.2948e-04,  3.3757e-03,  8.4103e-03, -2.0344e-03,\n",
       "        -1.0256e-02,  2.8455e-03, -4.7058e-03, -1.1009e-01, -1.0709e-01,\n",
       "         1.7965e-03,  7.8527e-04,  2.3452e-03,  6.1290e-02,  1.4059e-01,\n",
       "        -1.1430e-02,  1.2627e-02, -1.8574e-02,  6.1415e-03, -2.7495e-03,\n",
       "        -8.2067e-03,  4.0429e-03, -2.1470e-01,  5.8161e-03,  1.0067e-01,\n",
       "        -1.8868e-01, -1.8472e-03,  1.0457e-02, -1.0977e-02, -1.1329e-01,\n",
       "        -5.9509e-04,  5.0579e-03,  1.2184e-01, -2.7744e-03,  3.0503e-03,\n",
       "         7.9416e-02,  6.5999e-03,  2.5868e-03, -8.2520e-03,  7.9510e-03,\n",
       "        -9.5259e-03, -5.9582e-05,  6.1509e-03,  8.8964e-04,  8.0744e-03,\n",
       "        -6.4600e-02,  2.4263e-03, -5.0844e-03,  6.9886e-04,  1.1576e-02,\n",
       "        -2.7434e-04,  8.0140e-03, -4.7907e-03,  3.8303e-03,  9.3578e-03,\n",
       "        -1.1399e-02,  1.2772e-03,  1.3147e-01, -5.7038e-02,  4.8319e-03,\n",
       "         4.4883e-03,  5.7014e-04, -6.2844e-02,  4.9457e-03,  7.5290e-03,\n",
       "         4.6675e-03,  1.1537e-01, -9.7318e-03, -1.6405e-03,  1.0336e-02,\n",
       "         5.5743e-03,  5.5222e-02, -1.0046e-03,  3.2620e-03,  4.9392e-02,\n",
       "         5.3534e-03, -1.2123e-02,  4.4803e-03, -3.0246e-03,  1.3180e-01,\n",
       "        -9.1449e-03, -3.8590e-03,  8.1118e-04, -7.7800e-02, -7.3338e-03,\n",
       "         1.5194e-04, -2.4463e-03, -2.7056e-03, -3.5905e-03,  1.1768e-01,\n",
       "         6.3747e-04, -4.9113e-03, -6.4191e-03,  1.4410e-02,  9.7276e-03,\n",
       "         7.2875e-03,  8.2761e-03,  2.1308e-01, -6.5635e-03,  6.7623e-03,\n",
       "        -2.1442e-03,  9.0746e-03,  7.6946e-03,  5.4657e-03, -4.6583e-03,\n",
       "        -3.9892e-03, -1.0272e-01, -1.0667e-02, -9.6164e-03,  8.7345e-03,\n",
       "        -1.3521e-01, -6.7668e-02, -3.3669e-03, -8.1176e-03, -4.7608e-03,\n",
       "         8.5506e-03,  6.0288e-03, -5.7214e-03,  3.9632e-03, -7.1461e-03,\n",
       "         4.3054e-02, -1.5564e-03, -2.3337e-01, -5.2133e-03, -5.1220e-03,\n",
       "         3.7517e-03, -8.9528e-02, -8.5368e-03, -4.7315e-03,  1.1963e-02,\n",
       "        -2.8113e-03, -1.3680e-03, -6.6546e-02,  1.8982e-03, -2.5518e-03,\n",
       "         1.6908e-02,  4.0318e-03, -3.9108e-02,  3.8044e-02,  5.7587e-03,\n",
       "         1.6037e-02, -6.2656e-03,  1.4988e-01, -1.4208e-01,  7.0148e-03,\n",
       "        -4.5847e-03,  3.9573e-03,  3.9631e-03,  2.8163e-03,  7.9838e-02,\n",
       "         7.6723e-03, -2.9259e-04,  3.2793e-03,  2.8801e-03,  8.6509e-03,\n",
       "        -1.3344e-04, -1.4537e-03,  9.7733e-03, -5.4821e-04, -8.7478e-03,\n",
       "         3.2233e-03, -5.4169e-04,  1.3445e-02,  1.8135e-03, -2.2865e-01,\n",
       "        -3.7731e-03,  3.6536e-03, -4.4990e-03,  1.8715e-03, -9.2725e-04,\n",
       "         4.3553e-03, -1.1146e-03,  8.8995e-03,  1.6455e-04,  2.6022e-03,\n",
       "         8.5809e-04, -3.9749e-02, -7.0307e-03,  8.3834e-03,  1.9380e-01,\n",
       "        -3.9664e-03, -6.4917e-03, -1.1391e-02, -5.6100e-03,  4.4863e-03,\n",
       "        -5.7955e-03,  7.4165e-03,  4.8420e-02,  7.1080e-03, -6.6637e-03,\n",
       "         1.0846e-01, -8.9953e-02, -1.1408e-02, -1.7319e-03,  7.0331e-03,\n",
       "        -2.1061e-03, -2.2914e-04, -1.8391e-02,  7.8044e-03, -1.2409e-03,\n",
       "        -4.9681e-03, -4.6052e-03,  8.9189e-02,  6.5398e-04,  5.7021e-02,\n",
       "        -5.2915e-04,  7.9974e-03,  1.0198e-02,  3.7203e-03,  1.5136e-04,\n",
       "        -1.2017e-03,  2.5172e-03, -1.9622e-01, -1.2033e-02, -8.4506e-02,\n",
       "        -1.4039e-02, -1.0840e-01,  3.3033e-03,  6.0116e-03, -1.0212e-02,\n",
       "         5.0166e-04, -2.7990e-02, -7.0475e-03,  1.1880e-03,  3.0896e-02,\n",
       "        -5.3715e-02,  1.4294e-03, -1.4239e-02,  1.2566e-01,  4.3489e-03,\n",
       "        -8.6550e-03,  1.0386e-02,  6.8238e-03, -2.5730e-01, -6.1089e-03,\n",
       "        -4.2935e-03, -3.5702e-03, -2.2852e-01,  1.4210e-02, -5.7957e-03,\n",
       "        -2.2503e-01, -6.9417e-03,  1.9052e-03,  4.1491e-03, -2.6421e-03,\n",
       "        -2.1175e-01,  1.1030e-01, -8.0270e-03, -6.7993e-03, -1.5188e-02,\n",
       "         3.3801e-03,  1.1555e-01, -1.3815e-03,  2.9502e-03,  7.7761e-03,\n",
       "         6.5278e-03,  1.0267e-02, -1.1442e-03,  1.4265e-02,  2.4740e-04,\n",
       "        -6.8228e-02, -1.6722e-01, -1.1492e-01, -9.0246e-03,  4.2434e-03,\n",
       "        -1.2836e-01, -1.8959e-04, -4.1474e-04,  9.6172e-03, -5.0340e-03,\n",
       "         1.5322e-02,  6.7472e-03, -1.0510e-02, -9.7074e-03, -3.0237e-03,\n",
       "         1.7919e-03, -1.8294e-02,  7.3836e-03, -2.1513e-02,  5.5810e-03,\n",
       "        -4.0405e-04,  1.3085e-03, -5.1305e-03,  9.8499e-03,  8.8142e-03,\n",
       "         1.2477e-02,  8.6043e-04,  1.7258e-03, -6.7364e-04, -1.2591e-01,\n",
       "        -5.4238e-03,  1.7187e-03,  9.7971e-04,  4.6671e-03,  2.0655e-03,\n",
       "         3.4623e-03, -1.8278e-03, -1.7667e-02,  7.8041e-04,  2.5771e-03,\n",
       "         8.6366e-04,  3.2934e-04, -6.7541e-02,  6.5660e-03,  1.7451e-01,\n",
       "         1.4477e-03, -1.7090e-02,  9.2120e-03, -3.5337e-03,  7.7630e-03,\n",
       "        -4.2368e-03, -1.4124e-03,  3.8806e-03,  1.1173e-01, -7.1644e-02,\n",
       "         1.4493e-02, -3.8149e-04,  3.9603e-03, -1.0439e-02,  4.7097e-03,\n",
       "         4.9466e-03, -2.1437e-03,  7.0880e-02,  3.4588e-03, -4.3807e-02,\n",
       "         1.5992e-03, -1.5369e-01,  9.9683e-03, -9.1725e-04,  2.9577e-02,\n",
       "         4.8506e-03,  6.8886e-03, -1.6856e-02,  6.7396e-03, -8.7636e-03,\n",
       "         6.4593e-03, -4.2793e-03, -1.3415e-01, -1.2489e-01,  1.5800e-02,\n",
       "        -4.7227e-03, -5.6196e-03, -1.3505e-02, -4.8456e-03,  6.5173e-03,\n",
       "        -2.5285e-03,  6.0046e-03,  7.9413e-03, -4.9126e-04, -1.8553e-03,\n",
       "         2.1598e-01,  7.2419e-03, -7.2292e-03, -5.7143e-03,  1.3097e-03,\n",
       "         3.7099e-02,  3.2539e-03,  5.7037e-03,  1.0923e-02, -1.2153e-03,\n",
       "         1.2510e-03, -5.6814e-03,  1.0305e-01,  1.9548e-02, -3.2756e-03,\n",
       "         1.8467e-03, -2.3312e-03,  2.5133e-03, -1.8904e-01,  3.0190e-04,\n",
       "         8.5261e-03,  1.0664e-01,  1.0401e-02,  1.2878e-02,  8.3393e-03,\n",
       "         2.6723e-03, -6.5640e-03,  5.4533e-03,  6.2718e-03,  2.0935e-02,\n",
       "        -1.8542e-01,  7.2889e-02, -5.3688e-04, -5.8091e-03, -1.3319e-01,\n",
       "         7.3830e-02, -2.8122e-03, -7.4858e-03, -3.4880e-03,  1.4917e-02,\n",
       "         7.4428e-03,  1.7097e-01,  3.6325e-02,  2.3641e-03, -2.3967e-03,\n",
       "         1.2300e-02,  6.6388e-03,  2.0522e-03,  1.5586e-03, -4.7638e-04,\n",
       "        -1.9368e-02, -1.8564e-02, -3.4150e-03, -1.3979e-02,  4.5229e-03,\n",
       "         7.1378e-03, -6.3616e-03, -2.5027e-04,  4.1181e-03, -6.3937e-04,\n",
       "         1.4647e-01, -1.2578e-02,  8.5660e-02,  1.5154e-03,  1.3810e-02,\n",
       "         8.1567e-02,  1.1461e-03, -6.9613e-02,  1.1433e-02, -4.7964e-03,\n",
       "        -3.3305e-03,  5.3478e-03, -8.6784e-04, -1.8986e-03, -5.2316e-03,\n",
       "         9.3375e-02,  6.7439e-04, -5.2750e-03, -1.2240e-01,  8.4573e-03,\n",
       "         6.3354e-03, -1.8438e-02,  3.2110e-04, -2.9204e-02, -2.4678e-03,\n",
       "         9.2271e-04,  1.4265e-03, -2.0465e-01, -5.5177e-03,  4.5851e-02,\n",
       "         1.8992e-02, -5.2132e-03,  9.7365e-03,  5.0307e-03, -2.8358e-02,\n",
       "        -4.4181e-03,  6.2739e-03,  6.6572e-03,  7.4015e-03,  1.7958e-03,\n",
       "         6.8219e-03, -2.9362e-03, -1.6417e-03,  6.5085e-03, -1.6585e-01,\n",
       "         1.1117e-02,  1.0224e-04, -2.9599e-03, -1.8126e-03,  7.8824e-03,\n",
       "        -6.7479e-04,  5.7613e-03,  2.7378e-03,  8.7273e-04,  4.7142e-03,\n",
       "        -5.1898e-03,  7.2366e-03,  4.8652e-02,  5.4316e-03,  2.0967e-01,\n",
       "         2.7811e-03,  8.2879e-02, -1.6059e-01, -1.5843e-03, -1.9807e-03,\n",
       "         1.7631e-01, -3.6001e-04, -9.2566e-03, -2.9184e-03,  3.0987e-03,\n",
       "        -7.9788e-03,  1.3730e-02, -1.7295e-02,  9.4440e-03, -6.8702e-03,\n",
       "        -1.3959e-02,  1.1083e-02, -6.2237e-03, -3.3979e-03,  9.8641e-04,\n",
       "        -2.9353e-03, -8.6860e-03,  4.8502e-03,  7.1606e-03, -1.8481e-03,\n",
       "         1.0834e-03,  5.9671e-02, -5.1091e-02, -2.9926e-03, -4.4313e-04,\n",
       "        -7.9321e-03,  4.1828e-02, -1.7737e-01,  4.0519e-03,  1.4146e-02,\n",
       "        -3.5031e-03,  9.1730e-03,  7.8962e-03,  6.5867e-03, -1.3674e-01,\n",
       "         2.0066e-01,  7.6497e-03,  3.4727e-03, -3.6538e-03,  4.3889e-04,\n",
       "         1.0567e-02,  2.5504e-03, -5.0910e-03, -3.8546e-03,  1.9904e-03,\n",
       "         9.7067e-03,  2.9357e-03,  9.9626e-02,  6.0454e-03, -5.5494e-04,\n",
       "         1.1695e-02,  1.1900e-01, -5.1257e-02, -9.1347e-03,  1.8151e-03,\n",
       "         1.2787e-02, -9.2240e-04,  1.2587e-03, -3.0471e-03,  7.0159e-04,\n",
       "        -4.6077e-03,  5.5753e-03,  9.4920e-05,  1.4252e-03, -2.9963e-03,\n",
       "         1.4398e-03,  1.1314e-02,  3.7149e-03, -7.1816e-03,  4.5916e-02,\n",
       "        -8.8009e-03, -3.3098e-03,  2.3969e-01,  1.3768e-01,  8.2336e-02,\n",
       "         6.5228e-04, -1.6365e-03,  4.8621e-03,  8.0717e-02,  1.5517e-02,\n",
       "        -4.5865e-03,  8.0029e-02, -7.6530e-03, -1.0266e-01,  8.9848e-03,\n",
       "        -1.9914e-01,  1.1490e-02,  6.0884e-03, -5.5178e-03, -1.1173e-01,\n",
       "        -6.1257e-03,  6.2810e-04, -1.6194e-01, -1.6554e-03,  8.3771e-04,\n",
       "         9.8617e-03, -2.5391e-01,  9.1180e-03, -1.0222e-01, -1.6977e-03,\n",
       "         5.8023e-03, -5.4801e-03, -7.1325e-02, -2.3276e-03, -2.0127e-02,\n",
       "         1.7025e-01,  4.9909e-02,  6.6996e-02, -7.0514e-04,  6.9051e-03,\n",
       "        -5.1574e-02, -8.6932e-03, -3.6419e-03, -1.4081e-01,  2.6059e-04,\n",
       "        -9.1363e-03, -4.3607e-03,  6.4717e-03, -1.2781e-01,  8.5799e-03,\n",
       "         1.4130e-01,  5.1261e-03, -5.8259e-03, -1.5765e-01,  9.7778e-03,\n",
       "        -7.4048e-03,  5.2492e-02, -4.0917e-02,  6.7673e-04,  1.1186e-02,\n",
       "        -9.3536e-02,  1.3411e-01,  2.4760e-03, -2.9906e-03,  1.1593e-01,\n",
       "         4.9580e-03,  5.3268e-03, -1.2740e-02, -5.5136e-03,  3.0722e-03,\n",
       "        -3.3564e-03, -7.1589e-03,  6.4225e-03,  1.1032e-01, -6.4414e-03,\n",
       "         1.7589e-01, -3.1941e-03,  3.0722e-03, -1.1178e-02,  8.4255e-03,\n",
       "         1.0852e-02, -1.1443e-01,  5.5150e-02, -2.7300e-03,  1.2646e-01,\n",
       "         9.2153e-04,  2.1728e-01,  2.3728e-03, -7.6385e-03,  4.0527e-03,\n",
       "         5.9191e-02, -4.6555e-03, -8.9549e-04,  5.8811e-03,  5.1175e-03,\n",
       "        -1.2459e-01, -1.2963e-02,  5.8762e-03, -2.2008e-03,  5.9183e-03,\n",
       "        -2.7289e-03, -1.4634e-01, -4.1180e-03, -1.5736e-02,  1.5535e-01,\n",
       "         4.6030e-02, -1.5656e-01, -1.7430e-03, -1.3448e-01, -1.8622e-02,\n",
       "        -3.3662e-03,  1.6016e-02, -1.9014e-02, -1.6289e-02, -1.9546e-03,\n",
       "         1.6168e-04, -1.1988e-02,  1.3146e-03, -1.5853e-02, -1.9998e-02,\n",
       "         1.6236e-03, -3.0583e-02,  2.4292e-03, -2.4671e-01, -1.6658e-02,\n",
       "         3.2734e-03,  6.0996e-02,  2.3329e-04,  1.1611e-02,  8.7449e-05,\n",
       "        -6.9041e-02,  1.1919e-02, -1.0985e-01,  8.3363e-04, -4.5077e-04,\n",
       "        -7.2315e-03, -1.0303e-02,  5.4366e-03, -5.4158e-03,  1.2466e-01,\n",
       "        -5.8277e-02, -1.4059e-02,  6.3116e-03, -4.7717e-03, -1.1674e-01,\n",
       "         7.0253e-02,  2.2073e-03,  6.3621e-03,  3.0752e-03, -7.3676e-02,\n",
       "        -7.6474e-04, -1.0130e-02,  3.5146e-03, -8.2266e-03,  1.5172e-01,\n",
       "        -6.0078e-03,  7.2821e-03,  2.9131e-04, -6.5294e-03,  9.7628e-03,\n",
       "         3.6865e-02,  5.6674e-03, -5.7067e-03, -3.3219e-03,  1.4733e-03,\n",
       "        -1.4966e-01, -7.2331e-03,  1.2293e-02,  1.6991e-02,  1.2322e-03,\n",
       "         9.3976e-03, -5.5205e-03, -4.4407e-03,  1.9520e-03,  5.2447e-03,\n",
       "        -6.3455e-02, -2.6779e-03,  2.7375e-03, -1.7448e-01, -4.6037e-03,\n",
       "        -1.1416e-02, -7.3641e-03,  1.3791e-02,  1.4301e-02, -9.6456e-02,\n",
       "         9.7314e-03,  3.7419e-04,  1.2301e-02,  6.3830e-03,  1.6447e-02,\n",
       "         2.5053e-03,  2.3728e-04, -2.0388e-01,  3.2082e-03,  1.5999e-01,\n",
       "        -5.8093e-03,  9.6181e-03, -5.6085e-03, -1.4006e-02, -4.9747e-03,\n",
       "         7.1491e-03, -6.6079e-03, -1.0699e-03,  1.6085e-03],\n",
       "       grad_fn=<SelectBackward>)"
      ]
     },
     "execution_count": 26,
     "metadata": {},
     "output_type": "execute_result"
    }
   ],
   "source": [
    "g_from_z[1]"
   ]
  },
  {
   "cell_type": "code",
   "execution_count": 17,
   "metadata": {
    "collapsed": true,
    "jupyter": {
     "outputs_hidden": true
    }
   },
   "outputs": [
    {
     "data": {
      "text/plain": [
       "tensor([[0.7111],\n",
       "        [0.6928],\n",
       "        [0.5000],\n",
       "        [0.5000],\n",
       "        [0.6844],\n",
       "        [0.7031],\n",
       "        [0.5029],\n",
       "        [0.5002],\n",
       "        [0.5023],\n",
       "        [0.5362],\n",
       "        [0.5000],\n",
       "        [0.5002],\n",
       "        [0.5000],\n",
       "        [0.5541],\n",
       "        [0.6038],\n",
       "        [0.5000],\n",
       "        [0.5000],\n",
       "        [0.5011],\n",
       "        [0.7161],\n",
       "        [0.5895],\n",
       "        [0.5000],\n",
       "        [0.5004],\n",
       "        [0.5014],\n",
       "        [0.5006],\n",
       "        [0.5000],\n",
       "        [0.7234],\n",
       "        [0.5004],\n",
       "        [0.5015],\n",
       "        [0.5000],\n",
       "        [0.6621],\n",
       "        [0.6752],\n",
       "        [0.6366]], grad_fn=<SigmoidBackward>)"
      ]
     },
     "execution_count": 17,
     "metadata": {},
     "output_type": "execute_result"
    }
   ],
   "source": [
    "disc_real_out"
   ]
  },
  {
   "cell_type": "code",
   "execution_count": 16,
   "metadata": {
    "collapsed": true,
    "jupyter": {
     "outputs_hidden": true
    }
   },
   "outputs": [
    {
     "data": {
      "text/plain": [
       "tensor([[0.5000],\n",
       "        [0.5000],\n",
       "        [0.5000],\n",
       "        [0.5000],\n",
       "        [0.5000],\n",
       "        [0.5000],\n",
       "        [0.5000],\n",
       "        [0.5000],\n",
       "        [0.5000],\n",
       "        [0.5000],\n",
       "        [0.5000],\n",
       "        [0.5000],\n",
       "        [0.5000],\n",
       "        [0.5000],\n",
       "        [0.5000],\n",
       "        [0.5000],\n",
       "        [0.5000],\n",
       "        [0.5000],\n",
       "        [0.5000],\n",
       "        [0.5000],\n",
       "        [0.5000],\n",
       "        [0.5000],\n",
       "        [0.5000],\n",
       "        [0.5000],\n",
       "        [0.5000],\n",
       "        [0.5000],\n",
       "        [0.5000],\n",
       "        [0.5000],\n",
       "        [0.5000],\n",
       "        [0.5000],\n",
       "        [0.5000],\n",
       "        [0.5000]], grad_fn=<SigmoidBackward>)"
      ]
     },
     "execution_count": 16,
     "metadata": {},
     "output_type": "execute_result"
    }
   ],
   "source": [
    "disc_fake_out"
   ]
  },
  {
   "cell_type": "code",
   "execution_count": null,
   "metadata": {},
   "outputs": [],
   "source": [
    "n_epochs = 1\n",
    "for n in tqdm(range(n_epochs)):\n",
    "    \n",
    "    with tqdm(total=len(mnist_dl), desc='epoch ' + str(n)) as batch_bar:\n",
    "        for batch_i, (real_x, real_y) in enumerate(mnist_dl):\n",
    "            optim_omega.zero_grad()\n",
    "            optim_theta.zero_grad()\n",
    "            optim_gamma.zero_grad()\n",
    "            \n",
    "            fl_real_x = real_x.reshape(-1, input_dim)\n",
    "            z_i = torch.empty(fl_real_x.shape[0], z_size).normal_(mean=0, std=0.1)\n",
    "            g_from_z = gen_m(z_i)\n",
    "            z_i_g = enc_m(g_from_z)\n",
    "\n",
    "            ##############\n",
    "            g_w = -(torch.log(torch.sigmoid(disc_m(torch.cat([z_i, g_from_z], dim=1))))\n",
    "                    +   torch.log(1 - torch.sigmoid(disc_m(torch.cat([z_i_g, fl_real_x], dim=1))))\n",
    "                    ).mean()\n",
    "\n",
    "            # wtf is there notation - distance between z and x?\n",
    "            g_theta = torch.sqrt((z_i - z_i_g)**2).mean()\n",
    "\n",
    "            g_gamma = (disc_m(torch.cat([z_i, g_from_z], dim=1)).mean()\n",
    "                       +  torch.sqrt((z_i - z_i_g)**2).mean())\n",
    "            ##############\n",
    "\n",
    "\n",
    "            g_w.backward(retain_graph=True)\n",
    "            g_theta.backward(retain_graph=True)\n",
    "            g_gamma.backward(retain_graph=True)\n",
    "\n",
    "            optim_omega.step()\n",
    "            optim_theta.step()\n",
    "            optim_gamma.step()\n",
    "            desc = \"%.3f %.3f %.3f\" % (g_w, g_theta, g_gamma)\n",
    "            batch_bar.set_description(desc)\n",
    "            batch_bar.update(1)"
   ]
  },
  {
   "cell_type": "code",
   "execution_count": 49,
   "metadata": {},
   "outputs": [
    {
     "data": {
      "text/plain": [
       "tensor(1.3863, grad_fn=<NegBackward>)"
      ]
     },
     "execution_count": 49,
     "metadata": {},
     "output_type": "execute_result"
    }
   ],
   "source": [
    "g_w"
   ]
  },
  {
   "cell_type": "code",
   "execution_count": null,
   "metadata": {},
   "outputs": [],
   "source": []
  },
  {
   "cell_type": "code",
   "execution_count": null,
   "metadata": {},
   "outputs": [],
   "source": []
  },
  {
   "cell_type": "code",
   "execution_count": null,
   "metadata": {},
   "outputs": [],
   "source": []
  },
  {
   "cell_type": "code",
   "execution_count": null,
   "metadata": {},
   "outputs": [],
   "source": []
  },
  {
   "cell_type": "code",
   "execution_count": null,
   "metadata": {},
   "outputs": [],
   "source": []
  },
  {
   "cell_type": "code",
   "execution_count": null,
   "metadata": {},
   "outputs": [],
   "source": []
  }
 ],
 "metadata": {
  "kernelspec": {
   "display_name": "Python 3",
   "language": "python",
   "name": "python3"
  },
  "language_info": {
   "codemirror_mode": {
    "name": "ipython",
    "version": 3
   },
   "file_extension": ".py",
   "mimetype": "text/x-python",
   "name": "python",
   "nbconvert_exporter": "python",
   "pygments_lexer": "ipython3",
   "version": "3.8.5"
  }
 },
 "nbformat": 4,
 "nbformat_minor": 4
}
